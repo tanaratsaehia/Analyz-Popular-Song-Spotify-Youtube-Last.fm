{
 "cells": [
  {
   "cell_type": "code",
   "execution_count": null,
   "metadata": {},
   "outputs": [
    {
     "name": "stdout",
     "output_type": "stream",
     "text": [
      "Collecting pymongo\n",
      "  Downloading pymongo-4.11.2-cp310-cp310-win_amd64.whl.metadata (22 kB)\n",
      "Collecting dnspython<3.0.0,>=1.16.0 (from pymongo)\n",
      "  Downloading dnspython-2.7.0-py3-none-any.whl.metadata (5.8 kB)\n",
      "Downloading pymongo-4.11.2-cp310-cp310-win_amd64.whl (781 kB)\n",
      "   ---------------------------------------- 0.0/781.4 kB ? eta -:--:--\n",
      "   -------------------------- ------------- 524.3/781.4 kB 3.3 MB/s eta 0:00:01\n",
      "   ---------------------------------------- 781.4/781.4 kB 3.3 MB/s eta 0:00:00\n",
      "Downloading dnspython-2.7.0-py3-none-any.whl (313 kB)\n",
      "Installing collected packages: dnspython, pymongo\n",
      "Successfully installed dnspython-2.7.0 pymongo-4.11.2\n"
     ]
    }
   ],
   "source": [
    "!pip install pymongo"
   ]
  },
  {
   "cell_type": "code",
   "execution_count": 3,
   "metadata": {},
   "outputs": [
    {
     "name": "stdout",
     "output_type": "stream",
     "text": [
      "Connected to MongoDB successfully!\n",
      "Collections: ['Release', 'Tracks', 'Albums', 'Artists']\n"
     ]
    }
   ],
   "source": [
    "from pymongo import MongoClient\n",
    "\n",
    "\n",
    "# MongoDB connection details\n",
    "USER_NAME = 'oil'\n",
    "PASSWORD = 'dataEn1122344'\n",
    "DATABASE_IP = 'localhost'\n",
    "MONGO_URI = f\"mongodb://{USER_NAME}:{PASSWORD}@{DATABASE_IP}:27017/DataEngineer\"  # Replace with your VPN IP\n",
    "\n",
    "# Connect to MongoDB\n",
    "try:\n",
    "    client = MongoClient(MONGO_URI)\n",
    "    db = client[\"DataEngineer\"]  # Select the database\n",
    "    print(\"Connected to MongoDB successfully!\")\n",
    "\n",
    "    # List all collections in the database\n",
    "    collections = db.list_collection_names()\n",
    "    print(\"Collections:\", collections)\n",
    "\n",
    "except Exception as e:\n",
    "    print(\"Error connecting to MongoDB:\", e)\n"
   ]
  }
 ],
 "metadata": {
  "kernelspec": {
   "display_name": "final_project_dataEn",
   "language": "python",
   "name": "python3"
  },
  "language_info": {
   "codemirror_mode": {
    "name": "ipython",
    "version": 3
   },
   "file_extension": ".py",
   "mimetype": "text/x-python",
   "name": "python",
   "nbconvert_exporter": "python",
   "pygments_lexer": "ipython3",
   "version": "3.10.16"
  }
 },
 "nbformat": 4,
 "nbformat_minor": 2
}
