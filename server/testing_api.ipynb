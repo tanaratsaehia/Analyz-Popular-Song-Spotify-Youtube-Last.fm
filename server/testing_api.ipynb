{
 "cells": [
  {
   "cell_type": "code",
   "execution_count": null,
   "metadata": {},
   "outputs": [],
   "source": [
    "!pip install requests"
   ]
  },
  {
   "cell_type": "code",
   "execution_count": null,
   "metadata": {},
   "outputs": [],
   "source": [
    "import requests as req\n",
    "\n",
    "url = \"http://10.48.104.39:8854/songs\"\n",
    "response = req.get(url)\n",
    "data = response.json()\n"
   ]
  },
  {
   "cell_type": "code",
   "execution_count": 7,
   "metadata": {},
   "outputs": [
    {
     "data": {
      "text/plain": [
       "{'track_name': \"When I'm With You\",\n",
       " 'popularity': 74,\n",
       " 'view_count': 1356990,\n",
       " 'like_count': 76411,\n",
       " 'listeners': 41296,\n",
       " 'play_count': 660264,\n",
       " 'album': 'DREAMSCAPE',\n",
       " 'artists': ['NCT DREAM'],\n",
       " 'release_year': 2024,\n",
       " 'release_month': 11,\n",
       " 'release_day': 11}"
      ]
     },
     "execution_count": 7,
     "metadata": {},
     "output_type": "execute_result"
    }
   ],
   "source": [
    "data['songs'][0]"
   ]
  }
 ],
 "metadata": {
  "kernelspec": {
   "display_name": "final_project_dataEn",
   "language": "python",
   "name": "python3"
  },
  "language_info": {
   "codemirror_mode": {
    "name": "ipython",
    "version": 3
   },
   "file_extension": ".py",
   "mimetype": "text/x-python",
   "name": "python",
   "nbconvert_exporter": "python",
   "pygments_lexer": "ipython3",
   "version": "3.10.16"
  }
 },
 "nbformat": 4,
 "nbformat_minor": 2
}
